{
 "cells": [
  {
   "cell_type": "code",
   "execution_count": 3,
   "metadata": {},
   "outputs": [
    {
     "name": "stdout",
     "output_type": "stream",
     "text": [
      "['186', '彩雲邨長波樓', '5899', '114.214328', '22.33317', '彩雲一邨(彩雲南區)']\n",
      "['187', '彩雲邨長波樓', '5900', '114.214328', '22.33317', '彩雲一邨(彩雲南區)']\n",
      "['188', '彩雲邨長波樓', '5901', '114.214328', '22.33317', '彩雲一邨(彩雲南區)']\n",
      "['189', '彩雲邨長波樓', '5902', '114.214328', '22.33317', '彩雲一邨(彩雲南區)']\n",
      "['190', '彩雲邨長波樓', '5903', '114.214328', '22.33317', '彩雲一邨(彩雲南區)']\n",
      "['191', '彩雲邨長波樓', '5904', '114.214328', '22.33317', '彩雲一邨(彩雲南區)']\n",
      "['192', '彩雲邨長波樓', '5905', '114.214328', '22.33317', '彩雲一邨(彩雲南區)']\n",
      "['193', '彩雲邨長波樓', '5906', '114.214328', '22.33317', '彩雲一邨(彩雲南區)']\n",
      "['194', '彩雲邨長波樓', '5907', '114.214328', '22.33317', '彩雲一邨(彩雲南區)']\n",
      "['195', '彩雲邨長波樓', '5908', '114.214328', '22.33317', '彩雲一邨(彩雲南區)']\n",
      "{'Tsim Sha Tsui': 293, 'Sha Tin': 155, 'Ma On Shan': 179, 'Tuen Mun': 626, 'North Point': 151, 'Sai Kung': 90, 'Yau Ma Tei': 229, 'Jordan': 31, 'Kwai Chung': 323, '青衣': 13, 'Kwu Tung': 16, 'Fo Tan': 25, 'Central': 131, 'Wan Chai': 324, 'Ngau Chi Wan': 186, 'Leighton Hill': 55, 'Wo Che Estate': 24, 'Mong Kok': 253, 'Sai Wan Ho': 40, 'Tsing Yi': 229, 'Siu Sai Wan': 48, 'Ap Lei Chau': 35, 'Yau Yue Wan': 53, 'Tin Wan': 10, 'Leung Tin Village': 10, 'Tze Tin Tsuen': 14, '鰂魚涌': 16, '西營盤': 14, 'Quarry Bay': 106, 'Shek Lei': 72, 'Sheung Wan': 94, 'Taikoo Shing': 35, 'Tsat Tsz Mui': 26, 'Tseung Kwan O': 246, 'Tsz Wan Shan': 622, 'Kowloon Bay': 123, 'Ngau Tau Kok': 290, 'Kwun Tong': 115, 'Chai Wan': 107, 'Red Hill': 22, 'Lai Chi Kok': 36, 'Happy Valley': 211, 'So Kon Po': 27, 'Mid-Levels': 342, 'Tsim Sha Tsui East': 1, 'Pok Fu Lam': 30, 'Telegraph Bay': 24, 'Causeway Bay': 108, 'Yuen Long': 107, 'Chek Lap Kok': 26, 'Tai Ping Shan': 105, 'Fanling': 92, 'Hebe Haven': 1, 'The Peak': 7, 'Waterfall Bay': 58, 'Prince Edward': 61, 'Ferry Point': 13, 'Sandy Bay Gap': 10, '慈雲山': 13, 'Tai Kok Tsui': 137, 'Yau Tong': 135, 'Wong Chuk Hang': 15, '薄扶林': 4, 'Sham Shui Po': 197, 'Charming Garden': 7, 'San Po Kong': 67, 'Laguna Verde': 55, 'Tsuen Wan': 155, 'Tin Shui Wai': 165, 'Repulse Bay': 23, 'Clear Water Bay': 56, 'Yau Yat Chuen': 32, 'Mei Foo Sun Chuen': 33, 'Caribbean Coast': 20, 'Shau Kei Wan': 86, 'Tai Po': 210, 'Kowloon Tsai': 42, 'Belair Gardens': 3, 'Bowrington': 25, 'Hong Lok Yuen': 19, 'Lantau Island': 19, 'Sun Fung Wai': 19, '屯門': 7, 'Tai Tam': 22, 'Stanley': 25, 'Aldrich Bay': 24, 'Liu Pok': 4, 'San Hui Village': 23, 'Sau Mau Ping': 111, 'Quarry Hill': 39, 'Nam Wa Po': 3, \"King's Park\": 9, 'South Horizons': 23, 'Sheung Shui': 84, 'Ho Man Tin': 47, 'Tai Po Kau': 27, 'No. 12 Hill': 40, 'Hang Hau': 115, 'Cha Liu Au': 62, '元朗廈村': 15, 'Tai Wai': 321, 'Siu Lek Yuen': 16, 'West Kowloon': 35, 'Aberdeen': 156, 'Sai Ying Pun': 64, '清水灣': 21, 'Mount Davis': 3, 'Kwan Tei': 3, 'Hok Yuen': 31, 'Hung Hom Bay': 3, 'Kau To Shan': 22, 'San Tin': 40, 'Kennedy Town': 53, 'Pak Sha Wan': 36, 'Tai Hom': 19, 'Festival City': 9, 'Lam Tin': 110, 'Peng Chau': 8, 'City One - Shatin': 3, 'Lohas Park': 21, 'Kai Tak': 39, 'Tsing Lung Tau': 21, 'Fairview Park': 21, 'Kak Tin Village Nam Kau': 18, \"Jardine's Lookout\": 12, 'Wong Nai Tun Tsuen': 9, 'Beacon Hill': 12, 'Tung Chung': 100, 'Sai Wan': 43, 'Shek Kip Mei': 41, 'Hung Shui Kiu': 34, 'Kadoorie Hill': 5, 'Sha Tin Wai': 3, 'Chek Nai Ping': 3, 'Un Chau': 38, 'Ko Po Tsuen': 11, 'Chuk Un': 194, 'Metro City': 6, 'Providence Bay': 35, '大埔': 23, 'Sai Tso Wan': 24, 'Tsuen King Circuit': 8, 'So Uk': 28, 'Villa Athena': 5, 'Cheung Sha Wan': 73, 'Ha Tsuen Shi': 16, 'Shap Pat Heung': 3, 'Yat Tung Estate': 3, 'Ma Tau Wai': 24, 'Hung Hom': 108, 'Coastal Skyline': 97, 'Discovery Bay': 64, 'Riviera Gardens': 20, 'Kellet Bay': 5, 'Whampoa Garden': 38, 'Lei Cheng Uk': 38, 'Tseng Lan Shue': 11, 'Tai Hang': 9, 'Kan Tau Tsuen': 13, 'Kowloon City': 89, 'San Hui': 47, 'Ha Shan Kai Wat': 6, 'Yan Shau Wai': 26, 'Admiralty': 38, 'Ma Tau Chung': 6, 'Kat Hing Wai': 3, 'Chung Hom Kok': 30, 'Hang Hau Village': 11, 'Fan Tin Tuen': 10, '油塘': 8, 'Sceneway Garden': 31, 'Tung Tau Tsuen': 20, 'Park Island': 27, 'Royal Ascot': 5, '太子': 11, 'Tin Sam Village': 10, 'So Kwun Wat': 10, 'Siu Lam': 15, 'Seaview Crescent': 12, 'Diamond Hill': 70, 'Ping Shan': 61, 'Kwai Fong': 18, 'Tiu Keng Wan': 36, 'Shui Tsiu San Tsuen': 5, 'To Kwa Wan': 111, '彩雲一邨(彩雲西區)': 22, 'Tong Mi': 49, 'Tong Kung Leng': 7, '彩雲一邨(彩雲南區)': 10, 'Shek Yam': 6, 'On Tai Estate': 9, 'Hammer Hill': 29, 'Lo Fu Ngam': 3, 'Nga Ying Chau': 20, 'Siu Chik Sha': 11, 'Nga Tsin Wai': 6, 'Wang Tau Hom': 47, '新蒲崗': 6, 'Om Yau': 54, 'Pak Tin': 15, 'Lung Fu Shan': 1, '彩虹': 10, 'Sha Tin Pass': 14, 'Cheung Lung Tin': 7, 'Ma Yau Tong': 9, '蘇屋': 10, 'Discovery Park': 1, '號': 32, 'Fung Chi Tsuen': 11, 'Tai Wan': 9, 'Tseung Kwan O Village': 6, 'Closed Area': 10, 'Lek Yuen Estate': 14, 'Pak Kong': 12, 'Tai Tong': 9, 'Sham Tseng': 14, 'Tong Min Tsuen': 6, 'Fuk Hang Tsuen': 6, 'San Hing Tsuen': 8, 'Sheung Yuen Leng': 13, 'Sai Shan': 12, '馬鞍山': 11, 'Tai Lam': 12, '天平邨': 8, 'Tai Woh Ping': 9, 'Au Tau': 12, 'Ma Tau Kok': 3, 'Lung Mei Tsuen': 11, 'Wing Ning Tsuen': 10, 'Tai Lam Chung Tsuen': 3, 'Hang Tau Tsuen': 9, 'Nai Wai': 8, 'Pok Wai Village': 6, 'Sheung Shui Wai': 5, 'Kam Tin': 15, 'Worldwide Gardens': 7, 'Fanling Wai': 9, 'Pak Sha Tsuen': 9, 'Butterfly Beach': 7, 'Tsung Pak Long': 5, 'Yuen Kong Tsuen': 9, '64～70A': 7, 'Kornhill': 7, 'Wong Ka Wai': 6, 'Lei Muk Shue': 7, 'Nam Hang Tsuen': 3, '粉嶺': 9}\n"
     ]
    }
   ],
   "source": [
    "f = open('./places_hk_gps_new.txt','r',encoding='utf-8')\n",
    "blks = {}\n",
    "for line in f:\n",
    "    line = line.strip().split()\n",
    "    if ' '.join(line[5:]) =='彩雲一邨(彩雲南區)':\n",
    "        print(line)\n",
    "    if ' '.join(line[5:]) in blks:\n",
    "        blks[' '.join(line[5:])] += 1\n",
    "    else:\n",
    "        blks[' '.join(line[5:]) ] =1\n",
    "print(blks)\n",
    "f.close()\n",
    "    "
   ]
  },
  {
   "cell_type": "code",
   "execution_count": null,
   "metadata": {},
   "outputs": [],
   "source": [
    "blks = ['沙田','黃大仙','觀塘','九龍城','油尖旺','元朗','屯門','大埔','西貢','深水埗','葵青','灣仔','離島','荃灣','東區','南區','北區','中西區']\n",
    "\n",
    "l2b = {}\n"
   ]
  }
 ],
 "metadata": {
  "kernelspec": {
   "display_name": "Python 3",
   "language": "python",
   "name": "python3"
  },
  "language_info": {
   "codemirror_mode": {
    "name": "ipython",
    "version": 3
   },
   "file_extension": ".py",
   "mimetype": "text/x-python",
   "name": "python",
   "nbconvert_exporter": "python",
   "pygments_lexer": "ipython3",
   "version": "3.6.5"
  }
 },
 "nbformat": 4,
 "nbformat_minor": 2
}
